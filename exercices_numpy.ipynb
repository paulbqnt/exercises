{
 "cells": [
  {
   "cell_type": "code",
   "execution_count": null,
   "id": "f11b656e-5982-4a2c-b10b-ce0f27b232fe",
   "metadata": {},
   "outputs": [],
   "source": []
  },
  {
   "cell_type": "code",
   "execution_count": 2,
   "id": "fb5420ee-d53b-4fd7-b81f-4bb582d10c29",
   "metadata": {},
   "outputs": [],
   "source": [
    "import numpy as np"
   ]
  },
  {
   "cell_type": "markdown",
   "id": "42cfb3c6-eba4-4ed5-912d-d6f53ea39566",
   "metadata": {
    "tags": []
   },
   "source": [
    "## Basic"
   ]
  },
  {
   "cell_type": "code",
   "execution_count": 3,
   "id": "92c856c6-9e95-4588-8542-0872652d1a3b",
   "metadata": {},
   "outputs": [
    {
     "name": "stdout",
     "output_type": "stream",
     "text": [
      "<module 'numpy.version' from '/usr/lib64/python3.10/site-packages/numpy/version.py'>\n",
      "<function show at 0x7f307c22c9d0>\n"
     ]
    }
   ],
   "source": [
    "# 1. Write a NumPy program to get the numpy version and show numpy build configuration\n",
    "print(np.version)\n",
    "print(np.show_config)"
   ]
  },
  {
   "cell_type": "code",
   "execution_count": 4,
   "id": "64a3d6e5-0d63-49be-b774-01899c3bf95c",
   "metadata": {},
   "outputs": [
    {
     "name": "stdout",
     "output_type": "stream",
     "text": [
      "add(x1, x2, /, out=None, *, where=True, casting='same_kind', order='K', dtype=None, subok=True[, signature, extobj])\n",
      "\n",
      "Add arguments element-wise.\n",
      "\n",
      "Parameters\n",
      "----------\n",
      "x1, x2 : array_like\n",
      "    The arrays to be added.\n",
      "    If ``x1.shape != x2.shape``, they must be broadcastable to a common\n",
      "    shape (which becomes the shape of the output).\n",
      "out : ndarray, None, or tuple of ndarray and None, optional\n",
      "    A location into which the result is stored. If provided, it must have\n",
      "    a shape that the inputs broadcast to. If not provided or None,\n",
      "    a freshly-allocated array is returned. A tuple (possible only as a\n",
      "    keyword argument) must have length equal to the number of outputs.\n",
      "where : array_like, optional\n",
      "    This condition is broadcast over the input. At locations where the\n",
      "    condition is True, the `out` array will be set to the ufunc result.\n",
      "    Elsewhere, the `out` array will retain its original value.\n",
      "    Note that if an uninitialized `out` array is created via the default\n",
      "    ``out=None``, locations within it where the condition is False will\n",
      "    remain uninitialized.\n",
      "**kwargs\n",
      "    For other keyword-only arguments, see the\n",
      "    :ref:`ufunc docs <ufuncs.kwargs>`.\n",
      "\n",
      "Returns\n",
      "-------\n",
      "add : ndarray or scalar\n",
      "    The sum of `x1` and `x2`, element-wise.\n",
      "    This is a scalar if both `x1` and `x2` are scalars.\n",
      "\n",
      "Notes\n",
      "-----\n",
      "Equivalent to `x1` + `x2` in terms of array broadcasting.\n",
      "\n",
      "Examples\n",
      "--------\n",
      ">>> np.add(1.0, 4.0)\n",
      "5.0\n",
      ">>> x1 = np.arange(9.0).reshape((3, 3))\n",
      ">>> x2 = np.arange(3.0)\n",
      ">>> np.add(x1, x2)\n",
      "array([[  0.,   2.,   4.],\n",
      "       [  3.,   5.,   7.],\n",
      "       [  6.,   8.,  10.]])\n",
      "\n",
      "The ``+`` operator can be used as a shorthand for ``np.add`` on ndarrays.\n",
      "\n",
      ">>> x1 = np.arange(9.0).reshape((3, 3))\n",
      ">>> x2 = np.arange(3.0)\n",
      ">>> x1 + x2\n",
      "array([[ 0.,  2.,  4.],\n",
      "       [ 3.,  5.,  7.],\n",
      "       [ 6.,  8., 10.]])\n"
     ]
    }
   ],
   "source": [
    "# 2. Write a NumPy program to  get help on the add function\n",
    "np.info(np.add)"
   ]
  },
  {
   "cell_type": "code",
   "execution_count": 7,
   "id": "f1d6beb8-c30f-4209-b5b4-14525c6e6088",
   "metadata": {},
   "outputs": [
    {
     "data": {
      "text/plain": [
       "True"
      ]
     },
     "execution_count": 7,
     "metadata": {},
     "output_type": "execute_result"
    }
   ],
   "source": [
    "# 3. Write a NumPy program to test whether none of the elements of a given array is zero\n",
    "a = np.array([0, 1, 2, 3])\n",
    "np.all(a)"
   ]
  },
  {
   "cell_type": "code",
   "execution_count": 12,
   "id": "b197919b-c35c-4f31-8306-65e22270211f",
   "metadata": {},
   "outputs": [
    {
     "data": {
      "text/plain": [
       "True"
      ]
     },
     "execution_count": 12,
     "metadata": {},
     "output_type": "execute_result"
    }
   ],
   "source": [
    "# 4. Write a NumPy program to test whether any of the elements of a given array is non-zero. \n",
    "a = np.array([0, 1, 0])\n",
    "np.any(a)"
   ]
  },
  {
   "cell_type": "code",
   "execution_count": 15,
   "id": "c166a1bb-36f2-4a8e-a085-57db1e9b7b1e",
   "metadata": {},
   "outputs": [
    {
     "data": {
      "text/plain": [
       "array([ True,  True, False, False])"
      ]
     },
     "execution_count": 15,
     "metadata": {},
     "output_type": "execute_result"
    }
   ],
   "source": [
    "# 5. Write a NumPy program to test a given array element-wise for finiteness (not infinity or not a Number).\n",
    "a = np.array([1, 0, np.nan, np.inf])\n",
    "np.isfinite(a)"
   ]
  },
  {
   "cell_type": "code",
   "execution_count": 17,
   "id": "506f9a28-7d5f-4aee-b018-160715cba8c5",
   "metadata": {},
   "outputs": [
    {
     "data": {
      "text/plain": [
       "array([False, False, False, False])"
      ]
     },
     "execution_count": 17,
     "metadata": {},
     "output_type": "execute_result"
    }
   ],
   "source": [
    "# 6. Write a NumPy program to test element-wise for positive or negative infinity.\n",
    "a = np.array([1, 0, np.nan, np.inf])\n",
    "np.isposinf(a)\n",
    "np.isneginf(a)"
   ]
  },
  {
   "cell_type": "code",
   "execution_count": 18,
   "id": "d5ba839a-ce36-46a6-8192-85e82fb7c745",
   "metadata": {},
   "outputs": [
    {
     "data": {
      "text/plain": [
       "array([False, False,  True, False])"
      ]
     },
     "execution_count": 18,
     "metadata": {},
     "output_type": "execute_result"
    }
   ],
   "source": [
    "# 7. Write a NumPy program to test element-wise for NaN of a given array.\n",
    "a = np.array([1, 0, np.nan, np.inf])\n",
    "np.isnan(a)"
   ]
  },
  {
   "cell_type": "code",
   "execution_count": 19,
   "id": "1b22781b-37c7-4e51-8bd4-908cc3e961d1",
   "metadata": {},
   "outputs": [
    {
     "data": {
      "text/plain": [
       "False"
      ]
     },
     "execution_count": 19,
     "metadata": {},
     "output_type": "execute_result"
    }
   ],
   "source": [
    "# 8. Write a NumPy program to test element-wise for complex number, \n",
    "# real number of a given array. Also test whether a given number is a scalar type or not.\n",
    "a = np.array([1, 0, np.nan, np.inf])\n",
    "np.iscomplex(a)\n",
    "np.isreal(a)\n",
    "np.isscalar(a)"
   ]
  },
  {
   "cell_type": "code",
   "execution_count": 25,
   "id": "a07aae19-7e49-49f5-a423-2a5cecf4fa8b",
   "metadata": {},
   "outputs": [
    {
     "data": {
      "text/plain": [
       "True"
      ]
     },
     "execution_count": 25,
     "metadata": {},
     "output_type": "execute_result"
    }
   ],
   "source": [
    "# 9. Write a NumPy program to test whether two arrays are element-wise equal within a tolerance. \n",
    "a = np.array([1,2,3,4])\n",
    "b = np.array([1,2,3,4])\n",
    "\n",
    "np.allclose(a, b)"
   ]
  },
  {
   "cell_type": "code",
   "execution_count": 29,
   "id": "c99d7a81-dc20-4106-af7c-607aae81eb11",
   "metadata": {},
   "outputs": [
    {
     "data": {
      "text/plain": [
       "array([ True, False, False])"
      ]
     },
     "execution_count": 29,
     "metadata": {},
     "output_type": "execute_result"
    }
   ],
   "source": [
    "# 10. Write a NumPy program to create an element-wise comparison\n",
    "# (greater, greater_equal, less and less_equal) of two given arrays.\n",
    "a = np.array([1, 5, 4])\n",
    "b = np.array([1, 4, 2])\n",
    "\n",
    "np.greater(a,b)\n",
    "np.greater_equal(a,b)\n",
    "np.less(a,b)\n",
    "np.less_equal(a,b)"
   ]
  },
  {
   "cell_type": "code",
   "execution_count": 30,
   "id": "8badd14c-90c1-4da9-8d5b-61872e24d862",
   "metadata": {},
   "outputs": [
    {
     "data": {
      "text/plain": [
       "False"
      ]
     },
     "execution_count": 30,
     "metadata": {},
     "output_type": "execute_result"
    }
   ],
   "source": [
    "# 11. Write a NumPy program to create an element-wise comparison\n",
    "# (equal, equal within a tolerance) of two given arrays.\n",
    "a = np.array([1, 5, 4])\n",
    "b = np.array([1, 4, 2])\n",
    "\n",
    "np.equal(a, b)\n",
    "np.allclose(a,b)"
   ]
  },
  {
   "cell_type": "code",
   "execution_count": 35,
   "id": "a3e3234f-2aba-4bb4-90ec-e391ad402d98",
   "metadata": {},
   "outputs": [
    {
     "name": "stdout",
     "output_type": "stream",
     "text": [
      "32 bytes\n"
     ]
    }
   ],
   "source": [
    "# 12. Write a NumPy program to create an array with the values 1, 7, 13, 105\n",
    "# and determine the size of the memory occupied by the array.\n",
    "a = np.array([1, 7, 13, 105])\n",
    "np.size(a)\n",
    "print(f\"{a.size * a.itemsize} bytes\")"
   ]
  },
  {
   "cell_type": "code",
   "execution_count": 42,
   "id": "f911e41d-97ff-4428-8db0-9dadf935dadd",
   "metadata": {},
   "outputs": [
    {
     "data": {
      "text/plain": [
       "array([5., 5., 5., 5., 5., 5., 5., 5., 5., 5.])"
      ]
     },
     "execution_count": 42,
     "metadata": {},
     "output_type": "execute_result"
    }
   ],
   "source": [
    "# 13. Write a NumPy program to create an array of 10 zeros,10 ones, 10 fives.\n",
    "a = np.zeros(10)\n",
    "a = np.ones(10)\n",
    "a = np.ones(10) * 5"
   ]
  },
  {
   "cell_type": "code",
   "execution_count": 47,
   "id": "50cfc9f2-0eb5-4e36-b234-7e7a24430bdc",
   "metadata": {},
   "outputs": [
    {
     "data": {
      "text/plain": [
       "array([30, 31, 32, 33, 34, 35, 36, 37, 38, 39, 40, 41, 42, 43, 44, 45, 46,\n",
       "       47, 48, 49, 50, 51, 52, 53, 54, 55, 56, 57, 58, 59, 60, 61, 62, 63,\n",
       "       64, 65, 66, 67, 68, 69, 70])"
      ]
     },
     "execution_count": 47,
     "metadata": {},
     "output_type": "execute_result"
    }
   ],
   "source": [
    "# 14. Write a NumPy program to create an array of the integers from 30 to 70\n",
    "np.arange(30,71,1)"
   ]
  },
  {
   "cell_type": "code",
   "execution_count": 48,
   "id": "074c41c1-c3da-4360-8796-e461cd9878fd",
   "metadata": {},
   "outputs": [
    {
     "data": {
      "text/plain": [
       "array([30, 32, 34, 36, 38, 40, 42, 44, 46, 48, 50, 52, 54, 56, 58, 60, 62,\n",
       "       64, 66, 68, 70])"
      ]
     },
     "execution_count": 48,
     "metadata": {},
     "output_type": "execute_result"
    }
   ],
   "source": [
    "# 15. Write a NumPy program to create an array of all the even integers from 30 to 70.\n",
    "np.arange(30, 71, 2)"
   ]
  },
  {
   "cell_type": "code",
   "execution_count": 56,
   "id": "65a2e6aa-eb2c-4fd6-b39b-e6937c4b886b",
   "metadata": {},
   "outputs": [
    {
     "data": {
      "text/plain": [
       "array([[1., 0., 0.],\n",
       "       [0., 1., 0.],\n",
       "       [0., 0., 1.]])"
      ]
     },
     "execution_count": 56,
     "metadata": {},
     "output_type": "execute_result"
    }
   ],
   "source": [
    "# 16. Write a NumPy program to create a 3x3 identity matrix.\n",
    "np.identity(3)"
   ]
  },
  {
   "cell_type": "code",
   "execution_count": 75,
   "id": "9fd92598-4a2f-4931-b436-b1ebe927c18b",
   "metadata": {},
   "outputs": [
    {
     "data": {
      "text/plain": [
       "array([0.55448092])"
      ]
     },
     "execution_count": 75,
     "metadata": {},
     "output_type": "execute_result"
    }
   ],
   "source": [
    "# 17. Write a NumPy program to generate a random number between 0 and 1.\n",
    "np.random.normal(0,1,1)"
   ]
  },
  {
   "cell_type": "code",
   "execution_count": 78,
   "id": "d65a80cf-8508-4023-9a6b-62aae2577bb9",
   "metadata": {},
   "outputs": [
    {
     "data": {
      "text/plain": [
       "array([ 0.44466085,  0.03392839, -0.30088667, -0.64913455,  0.3874986 ,\n",
       "        0.29999823,  1.00892662, -1.53158642, -0.3481902 , -0.15182416,\n",
       "       -1.00502073, -0.34198242, -0.09378281, -1.08937996,  0.7573188 ])"
      ]
     },
     "execution_count": 78,
     "metadata": {},
     "output_type": "execute_result"
    }
   ],
   "source": [
    "# 18. Write a NumPy program to generate an array of 15 random numbers from a standard normal distribution. \n",
    "np.random.normal(0,1,15)"
   ]
  },
  {
   "cell_type": "code",
   "execution_count": 81,
   "id": "e3600b5d-78a7-40b2-b8cb-bf697264301d",
   "metadata": {},
   "outputs": [
    {
     "data": {
      "text/plain": [
       "array([16, 17, 18, 19, 20, 21, 22, 23, 24, 25, 26, 27, 28, 29, 30, 31, 32,\n",
       "       33, 34, 35, 36, 37, 38, 39, 40, 41, 42, 43, 44, 45, 46, 47, 48, 49,\n",
       "       50, 51, 52, 53, 54])"
      ]
     },
     "execution_count": 81,
     "metadata": {},
     "output_type": "execute_result"
    }
   ],
   "source": [
    "# 19. Write a NumPy program to create a vector with values ranging from 15\n",
    "# to 55 and print all values except the first and last.\n",
    "a = np.arange(15, 56)\n",
    "a[1:-1]"
   ]
  },
  {
   "cell_type": "code",
   "execution_count": 90,
   "id": "0cad1d6d-bd70-4cf8-bd3c-a6038421804b",
   "metadata": {},
   "outputs": [
    {
     "data": {
      "text/plain": [
       "array([[10, 11, 12, 13],\n",
       "       [14, 15, 16, 17],\n",
       "       [18, 19, 20, 21]])"
      ]
     },
     "execution_count": 90,
     "metadata": {},
     "output_type": "execute_result"
    }
   ],
   "source": [
    "# 20. Write a NumPy program to create a 3X4 array using and iterate over it.\n",
    "np.arange(10,22).reshape((3, 4))"
   ]
  }
 ],
 "metadata": {
  "kernelspec": {
   "display_name": "Python 3 (ipykernel)",
   "language": "python",
   "name": "python3"
  },
  "language_info": {
   "codemirror_mode": {
    "name": "ipython",
    "version": 3
   },
   "file_extension": ".py",
   "mimetype": "text/x-python",
   "name": "python",
   "nbconvert_exporter": "python",
   "pygments_lexer": "ipython3",
   "version": "3.10.7"
  }
 },
 "nbformat": 4,
 "nbformat_minor": 5
}
